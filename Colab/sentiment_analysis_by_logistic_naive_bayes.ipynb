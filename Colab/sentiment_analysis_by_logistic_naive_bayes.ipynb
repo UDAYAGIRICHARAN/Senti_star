{
  "cells": [
    {
      "cell_type": "markdown",
      "metadata": {
        "papermill": {
          "duration": 0.024449,
          "end_time": "2021-01-23T17:50:38.768839",
          "exception": false,
          "start_time": "2021-01-23T17:50:38.744390",
          "status": "completed"
        },
        "tags": [],
        "id": "IXhvBD4Wi63a"
      },
      "source": [
        "# Sentiment Analysis using Logistic Regression & Naive bayes leveraging NLTK library"
      ]
    },
    {
      "cell_type": "markdown",
      "metadata": {
        "papermill": {
          "duration": 0.022329,
          "end_time": "2021-01-23T17:50:38.814756",
          "exception": false,
          "start_time": "2021-01-23T17:50:38.792427",
          "status": "completed"
        },
        "tags": [],
        "id": "2eSM-ELii63h"
      },
      "source": [
        "Sentiment analysis is a technique through which you can analyze a piece of text to determine the sentiment behind it. It combines machine learning and natural language processing (NLP) to achieve this. Using basic Sentiment analysis, a program can understand if the sentiment behind a piece of text is positive, negative, or neutral."
      ]
    },
    {
      "cell_type": "markdown",
      "metadata": {
        "papermill": {
          "duration": 0.022601,
          "end_time": "2021-01-23T17:50:38.860209",
          "exception": false,
          "start_time": "2021-01-23T17:50:38.837608",
          "status": "completed"
        },
        "tags": [],
        "id": "agYr41qBi63k"
      },
      "source": [
        "To perform this sentiment analysis we need very simple 5 steps -\n",
        "1. Preprocess the text by removing extra unwanted words, stop words & punctuation\n",
        "2. Generate frequency metrics has positive or negetive count with respect to each word\n",
        "3. Extract feature map which has [word, postive count, negetive count] \n",
        "4. Divide into train and test and classify using any classifier ( Logistic regression )\n",
        "5. Predict & Evaluate classifier output"
      ]
    },
    {
      "cell_type": "code",
      "execution_count": null,
      "metadata": {
        "execution": {
          "iopub.execute_input": "2021-01-23T17:50:38.915041Z",
          "iopub.status.busy": "2021-01-23T17:50:38.914346Z",
          "iopub.status.idle": "2021-01-23T17:50:41.153608Z",
          "shell.execute_reply": "2021-01-23T17:50:41.152662Z"
        },
        "papermill": {
          "duration": 2.270855,
          "end_time": "2021-01-23T17:50:41.153751",
          "exception": false,
          "start_time": "2021-01-23T17:50:38.882896",
          "status": "completed"
        },
        "tags": [],
        "id": "XXU24294i63p",
        "outputId": "0ffd060a-c2df-476d-af66-068886122b2f"
      },
      "outputs": [
        {
          "name": "stdout",
          "output_type": "stream",
          "text": [
            "[nltk_data] Downloading package stopwords to /usr/share/nltk_data...\n",
            "[nltk_data]   Package stopwords is already up-to-date!\n"
          ]
        }
      ],
      "source": [
        "import pandas as pd\n",
        "import numpy as np\n",
        "import matplotlib.pyplot as plt\n",
        "import nltk\n",
        "from nltk.corpus import twitter_samples\n",
        "nltk.download('stopwords')\n",
        "\n",
        "import sklearn\n",
        "from sklearn.linear_model import LogisticRegression\n",
        "\n",
        "from sklearn.metrics import confusion_matrix\n",
        "import seaborn as sns\n",
        "\n",
        "import re                                  # library for regular expression operations\n",
        "import string                              # for string operations\n",
        "\n",
        "from nltk.corpus import stopwords          # module for stop words that come with NLTK\n",
        "from nltk.stem import PorterStemmer,WordNetLemmatizer         # module for stemming\n",
        "\n",
        "from nltk.tokenize import TweetTokenizer,sent_tokenize,word_tokenize   # module for tokenizing strings\n",
        "\n",
        "from sklearn.utils import shuffle"
      ]
    },
    {
      "cell_type": "code",
      "execution_count": null,
      "metadata": {
        "execution": {
          "iopub.execute_input": "2021-01-23T17:50:41.210764Z",
          "iopub.status.busy": "2021-01-23T17:50:41.210015Z",
          "iopub.status.idle": "2021-01-23T17:50:41.290840Z",
          "shell.execute_reply": "2021-01-23T17:50:41.290059Z"
        },
        "papermill": {
          "duration": 0.11312,
          "end_time": "2021-01-23T17:50:41.290999",
          "exception": false,
          "start_time": "2021-01-23T17:50:41.177879",
          "status": "completed"
        },
        "tags": [],
        "id": "cRnu5XoHi63t",
        "outputId": "0800783e-d9d9-4f1d-90db-3df99d15e443"
      },
      "outputs": [
        {
          "name": "stdout",
          "output_type": "stream",
          "text": [
            "[nltk_data] Downloading package twitter_samples to\n",
            "[nltk_data]     /usr/share/nltk_data...\n",
            "[nltk_data]   Package twitter_samples is already up-to-date!\n"
          ]
        },
        {
          "data": {
            "text/plain": [
              "True"
            ]
          },
          "execution_count": 2,
          "metadata": {},
          "output_type": "execute_result"
        }
      ],
      "source": [
        "nltk.download('twitter_samples')"
      ]
    },
    {
      "cell_type": "code",
      "execution_count": null,
      "metadata": {
        "execution": {
          "iopub.execute_input": "2021-01-23T17:50:41.345943Z",
          "iopub.status.busy": "2021-01-23T17:50:41.345289Z",
          "iopub.status.idle": "2021-01-23T17:50:42.323205Z",
          "shell.execute_reply": "2021-01-23T17:50:42.322228Z"
        },
        "papermill": {
          "duration": 1.007777,
          "end_time": "2021-01-23T17:50:42.323366",
          "exception": false,
          "start_time": "2021-01-23T17:50:41.315589",
          "status": "completed"
        },
        "tags": [],
        "id": "NOjht6Idi63x"
      },
      "outputs": [],
      "source": [
        "all_positive_tweets = twitter_samples.strings('positive_tweets.json')\n",
        "all_negative_tweets = twitter_samples.strings('negative_tweets.json')"
      ]
    },
    {
      "cell_type": "markdown",
      "metadata": {
        "papermill": {
          "duration": 0.023762,
          "end_time": "2021-01-23T17:50:42.371264",
          "exception": false,
          "start_time": "2021-01-23T17:50:42.347502",
          "status": "completed"
        },
        "tags": [],
        "id": "LKo_x-Tii631"
      },
      "source": [
        "**Step1** -Preprocess_tweet function cleans the tweet after removing extra stop words, punctuation etc. After this tweet need to be tokenize into words & then words converted into their respective lemma"
      ]
    },
    {
      "cell_type": "code",
      "execution_count": null,
      "metadata": {
        "execution": {
          "iopub.execute_input": "2021-01-23T17:50:42.433351Z",
          "iopub.status.busy": "2021-01-23T17:50:42.432633Z",
          "iopub.status.idle": "2021-01-23T17:50:42.436067Z",
          "shell.execute_reply": "2021-01-23T17:50:42.436677Z"
        },
        "papermill": {
          "duration": 0.041169,
          "end_time": "2021-01-23T17:50:42.436827",
          "exception": false,
          "start_time": "2021-01-23T17:50:42.395658",
          "status": "completed"
        },
        "tags": [],
        "id": "fglhvRVji633"
      },
      "outputs": [],
      "source": [
        "def preprocess_tweets(tweet):\n",
        "    tweets_clean = []\n",
        "    \n",
        "    # Instantiate stemming class\n",
        "    Lemma = WordNetLemmatizer()\n",
        "    \n",
        "    # Create an empty list to store the stems\n",
        "    tweets_lemma = []\n",
        "\n",
        "    stopwords_english = stopwords.words('english') \n",
        "    tokenizer = TweetTokenizer(preserve_case=False, strip_handles=True,reduce_len=True)\n",
        "    \n",
        "    tweet2 = re.sub(r'^RT[\\s]+', '', tweet)\n",
        "    # remove hyperlinks\n",
        "    tweet2 = re.sub(r'https?:\\/\\/.*[\\r\\n]*', '', tweet2)\n",
        "    # remove hashtags\n",
        "    # only removing the hash # sign from the word\n",
        "    tweet2 = re.sub(r'#', '', tweet2)\n",
        "    \n",
        "\n",
        "    tweet_tokens = tokenizer.tokenize(tweet2)\n",
        "    \n",
        "    for word_token in tweet_tokens:\n",
        "        if(word_token not in stopwords_english and word_token not in string.punctuation):\n",
        "            stem_word = Lemma.lemmatize(word_token)\n",
        "            tweets_clean.append(stem_word)\n",
        "    \n",
        "    return tweets_clean"
      ]
    },
    {
      "cell_type": "markdown",
      "metadata": {
        "papermill": {
          "duration": 0.035135,
          "end_time": "2021-01-23T17:50:42.502565",
          "exception": false,
          "start_time": "2021-01-23T17:50:42.467430",
          "status": "completed"
        },
        "tags": [],
        "id": "ylcTS3Wzi635"
      },
      "source": [
        "**Step2** - Generate positive & negetive count for each word occured in the tweet"
      ]
    },
    {
      "cell_type": "code",
      "execution_count": null,
      "metadata": {
        "execution": {
          "iopub.execute_input": "2021-01-23T17:50:42.570032Z",
          "iopub.status.busy": "2021-01-23T17:50:42.569277Z",
          "iopub.status.idle": "2021-01-23T17:50:42.573666Z",
          "shell.execute_reply": "2021-01-23T17:50:42.572821Z"
        },
        "papermill": {
          "duration": 0.040859,
          "end_time": "2021-01-23T17:50:42.573781",
          "exception": false,
          "start_time": "2021-01-23T17:50:42.532922",
          "status": "completed"
        },
        "tags": [],
        "id": "vuhTm7lci637"
      },
      "outputs": [],
      "source": [
        "def build_freq(tweets,label):\n",
        "    ys = label\n",
        "    yslist = np.squeeze(ys).tolist()\n",
        "\n",
        "    freq = {}\n",
        "\n",
        "    for tweet,y in zip(tweets,ys):\n",
        "        for word in preprocess_tweets(tweet):\n",
        "            pair = (word,y)\n",
        "            if pair in freq:\n",
        "                freq[pair] += 1\n",
        "         .///   else:\n",
        "                freq[pair] = 1\n",
        "    return freq"
      ]
    },
    {
      "cell_type": "markdown",
      "metadata": {
        "papermill": {
          "duration": 0.02494,
          "end_time": "2021-01-23T17:50:42.625984",
          "exception": false,
          "start_time": "2021-01-23T17:50:42.601044",
          "status": "completed"
        },
        "tags": [],
        "id": "6BFKxgAvi63-"
      },
      "source": [
        "**Step3** - Build frequency metrics [word, postive count, negetive count], this will act as our training feature set X and label corresponding to this will be y"
      ]
    },
    {
      "cell_type": "code",
      "execution_count": null,
      "metadata": {
        "execution": {
          "iopub.execute_input": "2021-01-23T17:50:42.684854Z",
          "iopub.status.busy": "2021-01-23T17:50:42.683886Z",
          "iopub.status.idle": "2021-01-23T17:50:42.686572Z",
          "shell.execute_reply": "2021-01-23T17:50:42.685984Z"
        },
        "papermill": {
          "duration": 0.035086,
          "end_time": "2021-01-23T17:50:42.686683",
          "exception": false,
          "start_time": "2021-01-23T17:50:42.651597",
          "status": "completed"
        },
        "tags": [],
        "id": "IgRC-pAPi64A"
      },
      "outputs": [],
      "source": [
        "def extract_feature_map(tweet,freq):\n",
        "    clean_word = preprocess_tweets(tweet)\n",
        "    x = np.zeros((1,3))\n",
        "    x[0,0]=1\n",
        "\n",
        "    for word in clean_word:\n",
        "        x[0,1] += freq.get((word,1.0),0)\n",
        "        x[0,2] += freq.get((word,0.0),0)\n",
        "\n",
        "    return x"
      ]
    },
    {
      "cell_type": "markdown",
      "metadata": {
        "papermill": {
          "duration": 0.024116,
          "end_time": "2021-01-23T17:50:42.736137",
          "exception": false,
          "start_time": "2021-01-23T17:50:42.712021",
          "status": "completed"
        },
        "tags": [],
        "id": "7BRTB-3ai64D"
      },
      "source": [
        "**Step4** - Divide data into train & test"
      ]
    },
    {
      "cell_type": "code",
      "execution_count": null,
      "metadata": {
        "execution": {
          "iopub.execute_input": "2021-01-23T17:50:42.792803Z",
          "iopub.status.busy": "2021-01-23T17:50:42.792009Z",
          "iopub.status.idle": "2021-01-23T17:50:42.794793Z",
          "shell.execute_reply": "2021-01-23T17:50:42.794284Z"
        },
        "papermill": {
          "duration": 0.033679,
          "end_time": "2021-01-23T17:50:42.794899",
          "exception": false,
          "start_time": "2021-01-23T17:50:42.761220",
          "status": "completed"
        },
        "tags": [],
        "id": "gaWSAz7ui64E"
      },
      "outputs": [],
      "source": [
        "# split the data into two pieces, one for training and one for testing (validation set) \n",
        "test_pos = all_positive_tweets[4000:]\n",
        "train_pos = all_positive_tweets[:4000]\n",
        "test_neg = all_negative_tweets[4000:]\n",
        "train_neg = all_negative_tweets[:4000]\n",
        "\n",
        "train_x = train_pos + train_neg \n",
        "test_x = test_pos + test_neg"
      ]
    },
    {
      "cell_type": "markdown",
      "metadata": {
        "papermill": {
          "duration": 0.02477,
          "end_time": "2021-01-23T17:50:42.844997",
          "exception": false,
          "start_time": "2021-01-23T17:50:42.820227",
          "status": "completed"
        },
        "tags": [],
        "id": "hk-J4Anti64H"
      },
      "source": [
        "Get the label which as y variable in classifier y=1 is positive where as y=0 is negetive"
      ]
    },
    {
      "cell_type": "code",
      "execution_count": null,
      "metadata": {
        "execution": {
          "iopub.execute_input": "2021-01-23T17:50:42.902385Z",
          "iopub.status.busy": "2021-01-23T17:50:42.901690Z",
          "iopub.status.idle": "2021-01-23T17:50:42.905128Z",
          "shell.execute_reply": "2021-01-23T17:50:42.904544Z"
        },
        "papermill": {
          "duration": 0.035106,
          "end_time": "2021-01-23T17:50:42.905252",
          "exception": false,
          "start_time": "2021-01-23T17:50:42.870146",
          "status": "completed"
        },
        "tags": [],
        "id": "FsR48SZ7i65C"
      },
      "outputs": [],
      "source": [
        "train_y = np.append(np.ones((len(train_pos), 1)), np.zeros((len(train_neg), 1)), axis=0)\n",
        "test_y = np.append(np.ones((len(test_pos), 1)), np.zeros((len(test_neg), 1)), axis=0)"
      ]
    },
    {
      "cell_type": "code",
      "execution_count": null,
      "metadata": {
        "execution": {
          "iopub.execute_input": "2021-01-23T17:50:42.961898Z",
          "iopub.status.busy": "2021-01-23T17:50:42.961194Z",
          "iopub.status.idle": "2021-01-23T17:50:48.281684Z",
          "shell.execute_reply": "2021-01-23T17:50:48.281119Z"
        },
        "papermill": {
          "duration": 5.350814,
          "end_time": "2021-01-23T17:50:48.281800",
          "exception": false,
          "start_time": "2021-01-23T17:50:42.930986",
          "status": "completed"
        },
        "tags": [],
        "id": "UCqBkkTgi65F"
      },
      "outputs": [],
      "source": [
        "freqs = build_freq(train_x, np.squeeze(train_y))"
      ]
    },
    {
      "cell_type": "code",
      "execution_count": null,
      "metadata": {
        "execution": {
          "iopub.execute_input": "2021-01-23T17:50:48.338839Z",
          "iopub.status.busy": "2021-01-23T17:50:48.338133Z",
          "iopub.status.idle": "2021-01-23T17:50:51.678811Z",
          "shell.execute_reply": "2021-01-23T17:50:51.679665Z"
        },
        "papermill": {
          "duration": 3.372607,
          "end_time": "2021-01-23T17:50:51.679893",
          "exception": false,
          "start_time": "2021-01-23T17:50:48.307286",
          "status": "completed"
        },
        "tags": [],
        "id": "ICV4pf71i65H"
      },
      "outputs": [],
      "source": [
        "X = np.zeros((len(train_x), 3))\n",
        "for i in range(len(train_x)):\n",
        "    X[i]=extract_feature_map(train_x[i],freqs)\n",
        "\n",
        "y = train_y"
      ]
    },
    {
      "cell_type": "markdown",
      "metadata": {
        "papermill": {
          "duration": 0.0344,
          "end_time": "2021-01-23T17:50:51.757089",
          "exception": false,
          "start_time": "2021-01-23T17:50:51.722689",
          "status": "completed"
        },
        "tags": [],
        "id": "-xlEh5vIi65I"
      },
      "source": [
        "As in files it has first positive followed by negetive tweets.To create more generalize model, tweets need to be distributed + & - all randomly"
      ]
    },
    {
      "cell_type": "code",
      "execution_count": null,
      "metadata": {
        "execution": {
          "iopub.execute_input": "2021-01-23T17:50:51.812783Z",
          "iopub.status.busy": "2021-01-23T17:50:51.812079Z",
          "iopub.status.idle": "2021-01-23T17:50:51.820055Z",
          "shell.execute_reply": "2021-01-23T17:50:51.820689Z"
        },
        "papermill": {
          "duration": 0.038073,
          "end_time": "2021-01-23T17:50:51.820858",
          "exception": false,
          "start_time": "2021-01-23T17:50:51.782785",
          "status": "completed"
        },
        "tags": [],
        "id": "TjCfXPFZi65J"
      },
      "outputs": [],
      "source": [
        "X, y = shuffle(X, y)"
      ]
    },
    {
      "cell_type": "code",
      "execution_count": null,
      "metadata": {
        "execution": {
          "iopub.execute_input": "2021-01-23T17:50:51.896952Z",
          "iopub.status.busy": "2021-01-23T17:50:51.896027Z",
          "iopub.status.idle": "2021-01-23T17:50:51.987610Z",
          "shell.execute_reply": "2021-01-23T17:50:51.988228Z"
        },
        "papermill": {
          "duration": 0.133251,
          "end_time": "2021-01-23T17:50:51.988408",
          "exception": false,
          "start_time": "2021-01-23T17:50:51.855157",
          "status": "completed"
        },
        "tags": [],
        "id": "CgKx4ERFi65L",
        "outputId": "6f380dbb-b7cc-47be-dfdf-b2a57a2ea270"
      },
      "outputs": [
        {
          "name": "stderr",
          "output_type": "stream",
          "text": [
            "/opt/conda/lib/python3.7/site-packages/sklearn/utils/validation.py:72: DataConversionWarning: A column-vector y was passed when a 1d array was expected. Please change the shape of y to (n_samples, ), for example using ravel().\n",
            "  return f(**kwargs)\n"
          ]
        },
        {
          "data": {
            "text/plain": [
              "LogisticRegression()"
            ]
          },
          "execution_count": 12,
          "metadata": {},
          "output_type": "execute_result"
        }
      ],
      "source": [
        "Logistic_reg = LogisticRegression()\n",
        "Logistic_reg.fit(X,y)"
      ]
    },
    {
      "cell_type": "code",
      "execution_count": null,
      "metadata": {
        "execution": {
          "iopub.execute_input": "2021-01-23T17:50:52.089281Z",
          "iopub.status.busy": "2021-01-23T17:50:52.088379Z",
          "iopub.status.idle": "2021-01-23T17:50:52.091950Z",
          "shell.execute_reply": "2021-01-23T17:50:52.092641Z"
        },
        "papermill": {
          "duration": 0.047195,
          "end_time": "2021-01-23T17:50:52.092804",
          "exception": false,
          "start_time": "2021-01-23T17:50:52.045609",
          "status": "completed"
        },
        "tags": [],
        "id": "Mz7Eq11di65N",
        "outputId": "755c214f-cf39-4a9c-951d-46e99ec15f01"
      },
      "outputs": [
        {
          "data": {
            "text/plain": [
              "array([1.])"
            ]
          },
          "execution_count": 13,
          "metadata": {},
          "output_type": "execute_result"
        }
      ],
      "source": [
        "Logistic_reg.predict(extract_feature_map(test_x[0],freqs))"
      ]
    },
    {
      "cell_type": "code",
      "execution_count": null,
      "metadata": {
        "execution": {
          "iopub.execute_input": "2021-01-23T17:50:52.173820Z",
          "iopub.status.busy": "2021-01-23T17:50:52.172807Z",
          "iopub.status.idle": "2021-01-23T17:50:55.683886Z",
          "shell.execute_reply": "2021-01-23T17:50:55.683088Z"
        },
        "papermill": {
          "duration": 3.556314,
          "end_time": "2021-01-23T17:50:55.684023",
          "exception": false,
          "start_time": "2021-01-23T17:50:52.127709",
          "status": "completed"
        },
        "tags": [],
        "id": "gHqHexQai65P"
      },
      "outputs": [],
      "source": [
        "Pred_y = np.zeros(len(test_x))\n",
        "y_pred_proba = pd.DataFrame()\n",
        "for i in range(0,len(test_x)):\n",
        "    Pred_y[i]= Logistic_reg.predict(extract_feature_map(test_x[i],freqs))\n",
        "    y_pred_proba=pd.concat([y_pred_proba,pd.DataFrame(Logistic_reg.predict_proba(extract_feature_map(test_x[i],freqs)))])"
      ]
    },
    {
      "cell_type": "code",
      "execution_count": null,
      "metadata": {
        "execution": {
          "iopub.execute_input": "2021-01-23T17:50:55.747679Z",
          "iopub.status.busy": "2021-01-23T17:50:55.746804Z",
          "iopub.status.idle": "2021-01-23T17:50:55.960568Z",
          "shell.execute_reply": "2021-01-23T17:50:55.961114Z"
        },
        "papermill": {
          "duration": 0.248495,
          "end_time": "2021-01-23T17:50:55.961270",
          "exception": false,
          "start_time": "2021-01-23T17:50:55.712775",
          "status": "completed"
        },
        "tags": [],
        "id": "Lbjztieyi65R",
        "outputId": "d3611622-0849-452d-8195-3c4c67407a8b"
      },
      "outputs": [
        {
          "data": {
            "text/plain": [
              "<matplotlib.axes._subplots.AxesSubplot at 0x7f7c2e90e090>"
            ]
          },
          "execution_count": 15,
          "metadata": {},
          "output_type": "execute_result"
        },
        {
          "data": {
            "image/png": "[encoded data removed]",
            "text/plain": [
              "<Figure size 432x288 with 2 Axes>"
            ]
          },
          "metadata": {
            "needs_background": "light"
          },
          "output_type": "display_data"
        }
      ],
      "source": [
        "sns.heatmap(confusion_matrix(test_y,Pred_y),annot=True)"
      ]
    },
    {
      "cell_type": "code",
      "execution_count": null,
      "metadata": {
        "execution": {
          "iopub.execute_input": "2021-01-23T17:50:56.025389Z",
          "iopub.status.busy": "2021-01-23T17:50:56.024717Z",
          "iopub.status.idle": "2021-01-23T17:50:56.028233Z",
          "shell.execute_reply": "2021-01-23T17:50:56.027573Z"
        },
        "papermill": {
          "duration": 0.037495,
          "end_time": "2021-01-23T17:50:56.028367",
          "exception": false,
          "start_time": "2021-01-23T17:50:55.990872",
          "status": "completed"
        },
        "tags": [],
        "id": "kkdJw4Vbi65S"
      },
      "outputs": [],
      "source": [
        "from sklearn.metrics import f1_score,precision_score, recall_score,roc_auc_score,r2_score,roc_curve"
      ]
    },
    {
      "cell_type": "markdown",
      "metadata": {
        "papermill": {
          "duration": 0.028826,
          "end_time": "2021-01-23T17:50:56.086416",
          "exception": false,
          "start_time": "2021-01-23T17:50:56.057590",
          "status": "completed"
        },
        "tags": [],
        "id": "VClsgBx2i65U"
      },
      "source": [
        "**Step5-** Evaluate the classifier"
      ]
    },
    {
      "cell_type": "code",
      "execution_count": null,
      "metadata": {
        "execution": {
          "iopub.execute_input": "2021-01-23T17:50:56.150839Z",
          "iopub.status.busy": "2021-01-23T17:50:56.150164Z",
          "iopub.status.idle": "2021-01-23T17:50:56.157472Z",
          "shell.execute_reply": "2021-01-23T17:50:56.156850Z"
        },
        "papermill": {
          "duration": 0.041848,
          "end_time": "2021-01-23T17:50:56.157587",
          "exception": false,
          "start_time": "2021-01-23T17:50:56.115739",
          "status": "completed"
        },
        "tags": [],
        "id": "co2k94F4i65V",
        "outputId": "ed85819e-8dd9-49d1-9f2f-cbf7073bcd76"
      },
      "outputs": [
        {
          "name": "stdout",
          "output_type": "stream",
          "text": [
            "Precision score 0.9900497512437811\n"
          ]
        }
      ],
      "source": [
        "print(\"Precision score\",precision_score(y_true=test_y,y_pred=Pred_y))"
      ]
    },
    {
      "cell_type": "code",
      "execution_count": null,
      "metadata": {
        "execution": {
          "iopub.execute_input": "2021-01-23T17:50:56.221750Z",
          "iopub.status.busy": "2021-01-23T17:50:56.221051Z",
          "iopub.status.idle": "2021-01-23T17:50:56.228138Z",
          "shell.execute_reply": "2021-01-23T17:50:56.227590Z"
        },
        "papermill": {
          "duration": 0.041411,
          "end_time": "2021-01-23T17:50:56.228278",
          "exception": false,
          "start_time": "2021-01-23T17:50:56.186867",
          "status": "completed"
        },
        "tags": [],
        "id": "J9uR14GDi65X",
        "outputId": "aa02440f-8688-49a6-97f3-d9f3da628d2d"
      },
      "outputs": [
        {
          "name": "stdout",
          "output_type": "stream",
          "text": [
            "recall score 0.995\n"
          ]
        }
      ],
      "source": [
        "print(\"recall score\",recall_score(y_true=test_y,y_pred=Pred_y))"
      ]
    },
    {
      "cell_type": "code",
      "execution_count": null,
      "metadata": {
        "execution": {
          "iopub.execute_input": "2021-01-23T17:50:56.293491Z",
          "iopub.status.busy": "2021-01-23T17:50:56.292819Z",
          "iopub.status.idle": "2021-01-23T17:50:56.302000Z",
          "shell.execute_reply": "2021-01-23T17:50:56.301201Z"
        },
        "papermill": {
          "duration": 0.043561,
          "end_time": "2021-01-23T17:50:56.302109",
          "exception": false,
          "start_time": "2021-01-23T17:50:56.258548",
          "status": "completed"
        },
        "tags": [],
        "id": "lJ7U6U_Qi65Z",
        "outputId": "2a56a352-2781-4e95-9c5f-a85df003fcc7"
      },
      "outputs": [
        {
          "name": "stdout",
          "output_type": "stream",
          "text": [
            "roc_auc_score 0.9925\n"
          ]
        }
      ],
      "source": [
        "print(\"roc_auc_score\",roc_auc_score(y_true=test_y,y_score=Pred_y))"
      ]
    },
    {
      "cell_type": "markdown",
      "metadata": {
        "papermill": {
          "duration": 0.029993,
          "end_time": "2021-01-23T17:50:56.362458",
          "exception": false,
          "start_time": "2021-01-23T17:50:56.332465",
          "status": "completed"
        },
        "tags": [],
        "id": "pOaTy1Idi65a"
      },
      "source": [
        "# Lets Try out with Naive Bayes"
      ]
    },
    {
      "cell_type": "markdown",
      "metadata": {
        "papermill": {
          "duration": 0.030263,
          "end_time": "2021-01-23T17:50:56.423181",
          "exception": false,
          "start_time": "2021-01-23T17:50:56.392918",
          "status": "completed"
        },
        "tags": [],
        "id": "vusTtjhli65b"
      },
      "source": [
        "Naive bayes Algorithm is based on the bayesian techique and works on conditional proabability. It also has laplace smoothening (alpha>=1) which means when it calculates the probability ratio of words in terms of positive or negative. If any term does not occur in any class, its probability value would be 0 & hence which doesn't signify a correct intrepretation.so, laplace suggest add +1 in numerater uniformally across all and when we add 1 in numerator it need to be normalized.Hence in denominator it added no of unique keyword in specific selected class & divides   "
      ]
    },
    {
      "cell_type": "markdown",
      "metadata": {
        "papermill": {
          "duration": 0.03049,
          "end_time": "2021-01-23T17:50:56.484554",
          "exception": false,
          "start_time": "2021-01-23T17:50:56.454064",
          "status": "completed"
        },
        "tags": [],
        "id": "sMLr24wMi65d"
      },
      "source": [
        "![image.png](attachment:image.png)"
      ]
    },
    {
      "cell_type": "code",
      "execution_count": null,
      "metadata": {
        "execution": {
          "iopub.execute_input": "2021-01-23T17:50:56.551519Z",
          "iopub.status.busy": "2021-01-23T17:50:56.550826Z",
          "iopub.status.idle": "2021-01-23T17:50:56.565432Z",
          "shell.execute_reply": "2021-01-23T17:50:56.564830Z"
        },
        "papermill": {
          "duration": 0.050043,
          "end_time": "2021-01-23T17:50:56.565556",
          "exception": false,
          "start_time": "2021-01-23T17:50:56.515513",
          "status": "completed"
        },
        "tags": [],
        "id": "t2HqmsYEi65e",
        "outputId": "3a722976-1867-423f-8adb-88ceb6a60906"
      },
      "outputs": [
        {
          "name": "stderr",
          "output_type": "stream",
          "text": [
            "/opt/conda/lib/python3.7/site-packages/sklearn/utils/validation.py:72: DataConversionWarning: A column-vector y was passed when a 1d array was expected. Please change the shape of y to (n_samples, ), for example using ravel().\n",
            "  return f(**kwargs)\n"
          ]
        },
        {
          "data": {
            "text/plain": [
              "MultinomialNB(alpha=1)"
            ]
          },
          "execution_count": 20,
          "metadata": {},
          "output_type": "execute_result"
        }
      ],
      "source": [
        "from sklearn.naive_bayes import MultinomialNB\n",
        "\n",
        "MB = MultinomialNB(alpha=1)\n",
        "MB.fit(X,y)"
      ]
    },
    {
      "cell_type": "code",
      "execution_count": null,
      "metadata": {
        "execution": {
          "iopub.execute_input": "2021-01-23T17:50:56.639222Z",
          "iopub.status.busy": "2021-01-23T17:50:56.637540Z",
          "iopub.status.idle": "2021-01-23T17:51:00.197825Z",
          "shell.execute_reply": "2021-01-23T17:51:00.197254Z"
        },
        "papermill": {
          "duration": 3.6,
          "end_time": "2021-01-23T17:51:00.197933",
          "exception": false,
          "start_time": "2021-01-23T17:50:56.597933",
          "status": "completed"
        },
        "tags": [],
        "id": "N0xcjHxzi65g"
      },
      "outputs": [],
      "source": [
        "Pred_y = np.zeros(len(test_x))\n",
        "y_pred_proba = pd.DataFrame()\n",
        "for i in range(0,len(test_x)):\n",
        "    Pred_y[i]= MB.predict(extract_feature_map(test_x[i],freqs))\n",
        "    y_pred_proba=pd.concat([y_pred_proba,pd.DataFrame(MB.predict_proba(extract_feature_map(test_x[i],freqs)))])"
      ]
    },
    {
      "cell_type": "code",
      "execution_count": null,
      "metadata": {
        "execution": {
          "iopub.execute_input": "2021-01-23T17:51:00.264965Z",
          "iopub.status.busy": "2021-01-23T17:51:00.264233Z",
          "iopub.status.idle": "2021-01-23T17:51:00.423855Z",
          "shell.execute_reply": "2021-01-23T17:51:00.423135Z"
        },
        "papermill": {
          "duration": 0.195259,
          "end_time": "2021-01-23T17:51:00.423983",
          "exception": false,
          "start_time": "2021-01-23T17:51:00.228724",
          "status": "completed"
        },
        "tags": [],
        "id": "qOGqV41Mi65j",
        "outputId": "edd7beaf-f873-478e-a091-e6206bec7dbb"
      },
      "outputs": [
        {
          "data": {
            "text/plain": [
              "<matplotlib.axes._subplots.AxesSubplot at 0x7f7c290a8850>"
            ]
          },
          "execution_count": 22,
          "metadata": {},
          "output_type": "execute_result"
        },
        {
          "data": {
            "image/png": "[encoded data removed]",
            "text/plain": [
              "<Figure size 432x288 with 2 Axes>"
            ]
          },
          "metadata": {
            "needs_background": "light"
          },
          "output_type": "display_data"
        }
      ],
      "source": [
        "sns.heatmap(confusion_matrix(test_y,Pred_y),annot=True)"
      ]
    },
    {
      "cell_type": "code",
      "execution_count": null,
      "metadata": {
        "execution": {
          "iopub.execute_input": "2021-01-23T17:51:00.496270Z",
          "iopub.status.busy": "2021-01-23T17:51:00.495615Z",
          "iopub.status.idle": "2021-01-23T17:51:00.503917Z",
          "shell.execute_reply": "2021-01-23T17:51:00.503152Z"
        },
        "papermill": {
          "duration": 0.045151,
          "end_time": "2021-01-23T17:51:00.504077",
          "exception": false,
          "start_time": "2021-01-23T17:51:00.458926",
          "status": "completed"
        },
        "tags": [],
        "id": "QxWXbHnzi65k",
        "outputId": "86f62643-3c85-4053-a638-115a76f42a43"
      },
      "outputs": [
        {
          "name": "stdout",
          "output_type": "stream",
          "text": [
            "Precision score 0.995004995004995\n"
          ]
        }
      ],
      "source": [
        "print(\"Precision score\",precision_score(y_true=test_y,y_pred=Pred_y))"
      ]
    },
    {
      "cell_type": "code",
      "execution_count": null,
      "metadata": {
        "execution": {
          "iopub.execute_input": "2021-01-23T17:51:00.575811Z",
          "iopub.status.busy": "2021-01-23T17:51:00.574759Z",
          "iopub.status.idle": "2021-01-23T17:51:00.581607Z",
          "shell.execute_reply": "2021-01-23T17:51:00.582092Z"
        },
        "papermill": {
          "duration": 0.045197,
          "end_time": "2021-01-23T17:51:00.582286",
          "exception": false,
          "start_time": "2021-01-23T17:51:00.537089",
          "status": "completed"
        },
        "tags": [],
        "id": "pqgsnB_ai65m",
        "outputId": "2b69e7c8-b03d-401a-da02-5b8db913b542"
      },
      "outputs": [
        {
          "name": "stdout",
          "output_type": "stream",
          "text": [
            "recall score 0.996\n"
          ]
        }
      ],
      "source": [
        "print(\"recall score\",recall_score(y_true=test_y,y_pred=Pred_y))"
      ]
    },
    {
      "cell_type": "code",
      "execution_count": null,
      "metadata": {
        "execution": {
          "iopub.execute_input": "2021-01-23T17:51:00.653618Z",
          "iopub.status.busy": "2021-01-23T17:51:00.653021Z",
          "iopub.status.idle": "2021-01-23T17:51:00.658624Z",
          "shell.execute_reply": "2021-01-23T17:51:00.659179Z"
        },
        "papermill": {
          "duration": 0.043786,
          "end_time": "2021-01-23T17:51:00.659380",
          "exception": false,
          "start_time": "2021-01-23T17:51:00.615594",
          "status": "completed"
        },
        "tags": [],
        "id": "Ud4EE4Boi65o",
        "outputId": "ae497db5-10d4-4d6b-86d1-1fa7bbde5176"
      },
      "outputs": [
        {
          "name": "stdout",
          "output_type": "stream",
          "text": [
            "roc_auc_score 0.9954999999999999\n"
          ]
        }
      ],
      "source": [
        "print(\"roc_auc_score\",roc_auc_score(y_true=test_y,y_score=Pred_y))"
      ]
    },
    {
      "cell_type": "code",
      "execution_count": null,
      "metadata": {
        "papermill": {
          "duration": 0.032953,
          "end_time": "2021-01-23T17:51:00.725198",
          "exception": false,
          "start_time": "2021-01-23T17:51:00.692245",
          "status": "completed"
        },
        "tags": [],
        "id": "7KD3eTCii65r"
      },
      "outputs": [],
      "source": []
    }
  ],
  "metadata": {
    "kernelspec": {
      "display_name": "Python 3",
      "language": "python",
      "name": "python3"
    },
    "language_info": {
      "codemirror_mode": {
        "name": "ipython",
        "version": 3
      },
      "file_extension": ".py",
      "mimetype": "text/x-python",
      "name": "python",
      "nbconvert_exporter": "python",
      "pygments_lexer": "ipython3",
      "version": "3.7.6"
    },
    "papermill": {
      "duration": 26.870786,
      "end_time": "2021-01-23T17:51:00.867008",
      "environment_variables": {},
      "exception": null,
      "input_path": "__notebook__.ipynb",
      "output_path": "__notebook__.ipynb",
      "parameters": {},
      "start_time": "2021-01-23T17:50:33.996222",
      "version": "2.1.0"
    },
    "colab": {
      "provenance": []
    }
  },
  "nbformat": 4,
  "nbformat_minor": 0
}