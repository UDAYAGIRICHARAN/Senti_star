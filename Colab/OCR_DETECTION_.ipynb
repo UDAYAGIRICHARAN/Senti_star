{
  "nbformat": 4,
  "nbformat_minor": 0,
  "metadata": {
    "colab": {
      "provenance": []
    },
    "kernelspec": {
      "name": "python3",
      "display_name": "Python 3"
    },
    "language_info": {
      "name": "python"
    }
  },
  "cells": [
    {
      "cell_type": "code",
      "execution_count": null,
      "metadata": {
        "id": "U0dmFcQzv9v5"
      },
      "outputs": [],
      "source": [
        "!pip install easyocr"
      ]
    },
    {
      "cell_type": "code",
      "source": [
        "import matplotlib.pyplot as plt\n",
        "import cv2\n",
        "import easyocr\n",
        "from pylab import rcParams\n",
        "from IPython.display import Image\n",
        "rcParams['figure.figsize'] = 8, 16\n",
        "     \n",
        "\n",
        "\n",
        "    "
      ],
      "metadata": {
        "id": "9f40c-M_wGbC"
      },
      "execution_count": null,
      "outputs": []
    },
    {
      "cell_type": "code",
      "source": [
        "\n",
        "reader = easyocr.Reader(['en'])"
      ],
      "metadata": {
        "id": "9yMQ3GQBwGgF",
        "colab": {
          "base_uri": "https://localhost:8080/"
        },
        "outputId": "fdf9d7c2-e253-48ed-bf20-65357873b52a"
      },
      "execution_count": null,
      "outputs": [
        {
          "output_type": "stream",
          "name": "stderr",
          "text": [
            "WARNING:easyocr.easyocr:CUDA not available - defaulting to CPU. Note: This module is much faster with a GPU.\n"
          ]
        }
      ]
    },
    {
      "cell_type": "code",
      "source": [
        "\n",
        "Image(\"/content/Screenshot (2).png\")"
      ],
      "metadata": {
        "id": "C-AVQKIOwGkR"
      },
      "execution_count": null,
      "outputs": []
    },
    {
      "cell_type": "code",
      "source": [
        "output = reader.readtext('/content/Screenshot (2).png')"
      ],
      "metadata": {
        "id": "lLtKwzp6wGn8"
      },
      "execution_count": null,
      "outputs": []
    },
    {
      "cell_type": "code",
      "source": [
        "\n",
        "final_text = \"\"\n",
        "\n",
        "for _, text, __ in output: # _ = bounding box, text = text and __ = confident level\n",
        "    final_text += \" \"\n",
        "    final_text += text\n",
        "final_text"
      ],
      "metadata": {
        "colab": {
          "base_uri": "https://localhost:8080/",
          "height": 53
        },
        "id": "Mecnz1KrwOry",
        "outputId": "7a3a2314-46f7-443c-c4f8-95ec3402d124"
      },
      "execution_count": null,
      "outputs": [
        {
          "output_type": "execute_result",
          "data": {
            "text/plain": [
              "' Certification Level Points Recognition Certified 51 60 Best Practices Silver 61 70 Outstanding Performance Gold 71 80 National Excellence Platinum 81-100 Global Leadership'"
            ],
            "application/vnd.google.colaboratory.intrinsic+json": {
              "type": "string"
            }
          },
          "metadata": {},
          "execution_count": 11
        }
      ]
    }
  ]
}